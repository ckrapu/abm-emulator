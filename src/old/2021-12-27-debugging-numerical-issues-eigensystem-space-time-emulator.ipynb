{
 "cells": [
  {
   "cell_type": "code",
   "execution_count": 17,
   "metadata": {},
   "outputs": [],
   "source": [
    "import numpy as np\n",
    "import emulators\n",
    "import cli\n",
    "import json\n",
    "\n",
    "from sklearn.gaussian_process.kernels import Matern\n",
    "\n",
    "np.set_printoptions(formatter={'float': lambda x: \"{0:0.1f}\".format(x)})\n"
   ]
  },
  {
   "cell_type": "code",
   "execution_count": 4,
   "metadata": {},
   "outputs": [
    {
     "name": "stderr",
     "output_type": "stream",
     "text": [
      "2021-12-27 12:39:34 CRITICAL Response variable standardized with mapping none, scale=0.8638699105511033 and offset=-0.004589297733632046\n"
     ]
    }
   ],
   "source": [
    "input_filepath = '../data/couzin.json'\n",
    "model_type     = 'space+time+process'\n",
    "\n",
    "out = cli.prep_data(input_filepath, model_type)\n",
    "kron_Xs, y, offset, scale, input_scales, input_offsets = out"
   ]
  },
  {
   "cell_type": "code",
   "execution_count": 31,
   "metadata": {},
   "outputs": [
    {
     "name": "stdout",
     "output_type": "stream",
     "text": [
      "[0.1 0.2 0.2 0.2 0.3 0.3 0.3 0.4 0.4 0.5 0.6 0.6 0.7 0.7 0.8 0.9 0.9 1.0\n",
      " 1.0 1.1 1.2 1.3 1.4 1.9 2.4 3.1 4.3]\n",
      "[0.0 0.0 0.0 0.0 0.0 0.0 0.0 0.0 0.0 0.0 0.0 0.0 0.0 0.0 0.0 0.0 0.0 0.0\n",
      " 0.0 0.0 0.0 0.0 0.0 0.0 0.0 0.0 0.0 0.0 0.0 0.0 0.0 0.0 0.0 0.0 0.0 0.0\n",
      " 0.0 0.0 0.0 0.0 0.0 0.0 0.0 0.0 0.0 0.0 0.0 0.0 0.0 0.0 0.0 0.0 0.0 0.0\n",
      " 0.0 0.0 0.0 0.0 0.0 0.0 0.0 0.0 0.0 0.0 0.0 0.0 0.0 0.0 0.0 0.0 0.0 0.0\n",
      " 0.0 0.0 0.0 0.0 0.0 0.0 0.0 0.0 0.0 0.0 0.0 0.0 0.0 0.0 0.0 0.0 0.0 0.1\n",
      " 0.1 0.2 0.4 0.7 1.2 2.4 4.8 10.2 23.7 56.2]\n",
      "[0.0 0.0 0.0 0.0 0.0 0.0 0.0 0.0 0.0 0.0 0.0 0.0 0.0 0.0 0.0 0.0 0.0 0.0\n",
      " 0.0 0.0 0.0 0.0 0.0 0.0 0.0 0.0 0.0 0.0 0.0 0.0 0.0 0.0 0.0 0.0 0.0 0.0\n",
      " 0.0 0.0 0.0 0.0 0.0 0.0 0.0 0.0 0.0 0.0 0.0 0.0 0.0 0.0 0.0 0.0 0.1 0.1\n",
      " 0.1 0.1 0.1 0.1 0.1 0.1 0.2 0.2 0.2 0.2 0.2 0.3 0.3 0.3 0.4 0.5 0.5 0.5\n",
      " 0.6 0.6 0.8 1.0 1.0 1.2 1.3 1.4 1.7 2.0 2.5 3.1 4.2 4.7 6.1 10.6 12.6\n",
      " 29.6]\n"
     ]
    }
   ],
   "source": [
    "for Xs in kron_Xs:\n",
    "    kernel = Matern(nu=5/2)\n",
    "    K = kernel(Xs + np.random.randn(*Xs.shape))\n",
    "    w, v = np.linalg.eigh(K)\n",
    "    print(w)"
   ]
  }
 ],
 "metadata": {
  "kernelspec": {
   "display_name": "macbook-abm-venv",
   "language": "python",
   "name": "macbook-abm-venv"
  },
  "language_info": {
   "codemirror_mode": {
    "name": "ipython",
    "version": 3
   },
   "file_extension": ".py",
   "mimetype": "text/x-python",
   "name": "python",
   "nbconvert_exporter": "python",
   "pygments_lexer": "ipython3",
   "version": "3.8.5"
  }
 },
 "nbformat": 4,
 "nbformat_minor": 4
}
