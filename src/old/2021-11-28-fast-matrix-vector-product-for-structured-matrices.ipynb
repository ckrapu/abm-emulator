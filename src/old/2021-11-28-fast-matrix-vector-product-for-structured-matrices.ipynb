{
 "cells": [
  {
   "cell_type": "markdown",
   "id": "c5d067b5",
   "metadata": {},
   "source": [
    "In numerical linear algebra for large datasets, a common problem that arises in the analysis of large datasets is the product of a dense but structured $N \\times N$ matrix $\\mathbf{A} = \\bigotimes_{j=1}^J \\mathbf{A}_j$ with a similarly dense vector $\\mathbf{y}$. We're assuming that $\\mathbf{A}$ can be written as the tensor or Kronecker product of $J$ smaller matrices denoted by $\\mathbf{A}_j$, each of which has dimension $N_j$. \n",
    "\n",
    "Our strategy in computing this is to rearrange $\\mathbf{y}$ into a multdimensional array and, by contracting indices in an efficient way, avoid an $\\mathcal{O}(N^2)$ matrix-vector operation. Some of the commonly used identities of product matrices are available on [Wikipedia](https://en.wikipedia.org/wiki/Kronecker_product), and we'll make use of several of them. We let $\\mathbf{Y}$ denote an array formed from the vector $\\mathbf{y}$ by reshaping into a form with axis dimensions of $N_1,...,N_J$. By the associative property of the tensor product,\n",
    "\\begin{align}\n",
    "\\left(\\bigotimes_{j=1}^J \\mathbf{A}_j \\right) \\mathbf{y}&=\\mathbf{A}_1\\otimes\\left(\\cdot\\cdot\\cdot\\otimes(\\mathbf{A}_J\\mathbf{Y})\\right)\\\\\n",
    "&=u^{(1)}_{k_1,k_2}u^{(2)}_{k_3,k_4}\\cdot\\cdot\\cdot u^{(J)}_{k_{2J-1},k_{2J}}Y_{k_2,k_4,...,k_{2J}}\n",
    "\\end{align}\n",
    "where we let $u^{(1)}_{k_1k_2}$ refer to the entry of the $k_1$-th row and $k_2$-th column of $\\mathbf{A}_1$. The second equation above uses [Einstein notation](https://en.wikipedia.org/wiki/Einstein_notation) in representing the tensor product and multidimensional array $\\mathbf{Y}$. The $k$ indices look a little funky compared to usual tensor notation; in physics we are used to having actual letters such as $i, j, k$ rather than letters with numbers. However, if we have an arbitrary number of Kronecker factors, there may be many, many indices used, so we avoid using any particular letter and instead replace $i, j, k, l, m,...$ with $k_1, k_2, k_3, k_4, k_5,...$.\n",
    "\n",
    "The rule for Einstein notation is that when an index appears twice, we sum over it, also described as \"contraction\" over that index. Contracting the repeated indices, the result of the above procedure is an array $\\mathbf{Z}$ of the same dimensions as $\\mathbf{Y}$ running over indices $k_1, k_3,...,k_{2J-1}$ which has been transformed by the repeated application of the matrix and tensor product operations and which satisfies the equality \n",
    "\\begin{equation}\n",
    "    Vec(\\mathbf{Z})=\\left(\\bigotimes_{j=1}^J \\mathbf{A}_j \\right) \\mathbf{y}.\n",
    "\\end{equation}\n",
    "Since each of the $J$ tensor contractions involves a sum involving $N_j$ terms, each of which makes use of all $N$ elements in $\\mathbf{Y}$, the overall complexity of this algorithm is $\\mathcal{O}(N \\cdot \\sum_{j=1}^J N_j)$, which compares favorably with the naive $\\mathcal{O}(N^2)$. \n",
    "\n",
    "This entire procedure can be run in a single call to the `einsum` function available in Numpy.\n",
    " \n",
    "Here, I should note that this is essentially the same result characterized by [Saatchi's PhD](http://mlg.eng.cam.ac.uk/pub/pdf/Saa11.pdf) thesis, but this presentation omits the dependence upon permutation indices and transpositions that obscures the essential index operations involved. Alex Williams has an [implementation](https://gist.github.com/ahwillia/f65bc70cb30206d4eadec857b98c4065) of this calculation in PyTorch, but it does the index juggling by hand and is a bit more complex than automatically contracting the right indices. \n",
    "In the rest of this notebook, I show how to implement this operation in a few lines of Python."
   ]
  },
  {
   "cell_type": "markdown",
   "id": "80033d4a",
   "metadata": {},
   "source": [
    "### Implementing an efficient matrix-vector product"
   ]
  },
  {
   "cell_type": "markdown",
   "id": "6f8ff78a",
   "metadata": {},
   "source": [
    "To begin, we'll cook up a set of 5 square, symmetric matrices of increasing size. We'll guarantee they are symmetic and positive semidefinite by squaring them."
   ]
  },
  {
   "cell_type": "code",
   "execution_count": 1,
   "id": "290de89a",
   "metadata": {},
   "outputs": [],
   "source": [
    "import numpy as np\n",
    "import time\n",
    "\n",
    "sizes = 3,4,5,6,7\n",
    "prod_size = np.prod(sizes)\n",
    "\n",
    "matrices = [np.random.randn(n,n) for n in sizes]\n",
    "matrices = [X@X.T for X in matrices]\n",
    "\n"
   ]
  },
  {
   "cell_type": "markdown",
   "id": "3d20635f",
   "metadata": {},
   "source": [
    "In the end, we want to take the Kronecker / tensor product of these matrices. Since they have increasing dimension, the dimension of their Kronecker product will be `3*4*5*6*7=2520`"
   ]
  },
  {
   "cell_type": "code",
   "execution_count": 2,
   "id": "92168c31",
   "metadata": {},
   "outputs": [
    {
     "data": {
      "text/plain": [
       "[(3, 3), (4, 4), (5, 5), (6, 6), (7, 7)]"
      ]
     },
     "execution_count": 2,
     "metadata": {},
     "output_type": "execute_result"
    }
   ],
   "source": [
    "[A.shape for A in matrices]"
   ]
  },
  {
   "cell_type": "markdown",
   "id": "892a432b",
   "metadata": {},
   "source": [
    "As promised, these matrices are invertible as shown by their determinants. Since each of these determinants is nonzero, an inverse exists.\n"
   ]
  },
  {
   "cell_type": "code",
   "execution_count": 3,
   "id": "fa821325",
   "metadata": {},
   "outputs": [
    {
     "data": {
      "text/plain": [
       "[19.055143537578502,\n",
       " 0.041852313010475074,\n",
       " 0.008158197604522445,\n",
       " 43.252474950990084,\n",
       " 798.5649833818011]"
      ]
     },
     "execution_count": 3,
     "metadata": {},
     "output_type": "execute_result"
    }
   ],
   "source": [
    "[np.linalg.det(A) for A in matrices]"
   ]
  },
  {
   "cell_type": "markdown",
   "id": "4a255ab1",
   "metadata": {},
   "source": [
    "We will also instantiate the vector $\\mathbf{y}$, though here we create it in the array form and then vectorize it later."
   ]
  },
  {
   "cell_type": "code",
   "execution_count": 4,
   "id": "6ab8dbe8",
   "metadata": {},
   "outputs": [],
   "source": [
    "y = np.random.randn(*sizes)"
   ]
  },
  {
   "cell_type": "markdown",
   "id": "79cd0094",
   "metadata": {},
   "source": [
    "Here, we perform a brute-force calculation of the matrix-vector product by instantiating the full Kronecker product. We do this by iteratively applying the Kronecker product to each of the matrices."
   ]
  },
  {
   "cell_type": "code",
   "execution_count": 5,
   "id": "3ffa7455",
   "metadata": {},
   "outputs": [],
   "source": [
    "from functools import reduce\n",
    "big_matrix = reduce(np.kron, matrices)\n",
    "matrix_product = big_matrix @ y.ravel()"
   ]
  },
  {
   "cell_type": "markdown",
   "id": "30e2e2c4",
   "metadata": {},
   "source": [
    "We'll also do the same using the `einsum` function. The first argument is a string specification for the tensor contraction. Essentially, it is saying that we have 5 two-dimensional arrays (with indices `ij`, `kl`, and so on), and that they are multiplied with a 5-dimensional array to output another 5-dimensional array."
   ]
  },
  {
   "cell_type": "code",
   "execution_count": 6,
   "id": "e290369d",
   "metadata": {},
   "outputs": [],
   "source": [
    "tensors = matrices+[y]\n",
    "einstein_product = np.einsum('ij,kl,mn,op,qr,ikmoq->jlnpr', *tensors)\n"
   ]
  },
  {
   "cell_type": "markdown",
   "id": "86c737be",
   "metadata": {},
   "source": [
    "Both procedures result in the same values! Note that if you use the elementwise `==` operator overloaded by Numpy, you will get `False` due to minor differences due to the floating point representation."
   ]
  },
  {
   "cell_type": "code",
   "execution_count": 7,
   "id": "82324d7b",
   "metadata": {},
   "outputs": [
    {
     "data": {
      "text/plain": [
       "True"
      ]
     },
     "execution_count": 7,
     "metadata": {},
     "output_type": "execute_result"
    }
   ],
   "source": [
    "np.allclose(matrix_product, einstein_product.ravel())"
   ]
  },
  {
   "cell_type": "markdown",
   "id": "2c9f5326",
   "metadata": {},
   "source": [
    "The next code cell packages up these functions so we can reuse them later to assess the relative runtimes of each."
   ]
  },
  {
   "cell_type": "code",
   "execution_count": 8,
   "id": "5ae5621e",
   "metadata": {
    "code_folding": []
   },
   "outputs": [],
   "source": [
    "from string import ascii_lowercase as letters\n",
    "\n",
    "def mv_kron(matrices, y):\n",
    "    '''\n",
    "    Compute product of vector and Kronecker-structured matrix\n",
    "    via brute-force enumeration of entire Kronecker matrix.\n",
    "    '''\n",
    "    A_kron = reduce(np.kron, matrices)\n",
    "    return A_kron @ y.ravel()\n",
    "\n",
    "def mv_einstein(matrices, y):\n",
    "    '''\n",
    "    Use Einstein summation convention to iteratively\n",
    "    contract along secondary axes and implement Kronecker \n",
    "    matrix-vector product\n",
    "    '''\n",
    "    p = len(matrices)\n",
    "    \n",
    "    if p > 13:\n",
    "        raise ValueError('There aren\\'t enough letters in the alphabet for this operation :(')\n",
    "    \n",
    "    letter_pairs = [letters[2*i]+letters[2*i+1] for i in range(p)]\n",
    "    matrix_string = ','.join(letter_pairs)\n",
    "    vec_in_string, vec_out_string = [''.join(s) for s in zip(*letter_pairs)]\n",
    "    string_spec = f'{matrix_string},{vec_in_string}->{vec_out_string}'\n",
    "    \n",
    "    return np.einsum(string_spec, *matrices, y, optimize='greedy').ravel(), string_spec"
   ]
  },
  {
   "cell_type": "markdown",
   "id": "4993bf3d",
   "metadata": {},
   "source": [
    "### Comparing runtimes"
   ]
  },
  {
   "cell_type": "code",
   "execution_count": 18,
   "id": "772bc0d5",
   "metadata": {},
   "outputs": [
    {
     "name": "stdout",
     "output_type": "stream",
     "text": [
      "Dimension: 64    Einstein time: 0.001 s. Naive time 0.001s.\n",
      "Dimension: 512   Einstein time: 0.000 s. Naive time 0.016s.\n",
      "Dimension: 1728  Einstein time: 0.000 s. Naive time 0.039s.\n",
      "Dimension: 4096  Einstein time: 0.000 s. Naive time 0.190s.\n",
      "Dimension: 8000  Einstein time: 0.001 s. Naive time 0.921s.\n",
      "Dimension: 13824 Einstein time: 0.001 s. Naive time 2.632s.\n",
      "Dimension: 21952 Einstein time: 0.018 s. Naive time 7.073s.\n",
      "Dimension: 32768 Einstein time: 0.063 s. Naive time 95.083s.\n"
     ]
    }
   ],
   "source": [
    "ein_times  = []\n",
    "kron_times = []\n",
    "dimensions = []\n",
    "\n",
    "for scale in [1, 2, 3, 4, 5, 6, 7, 8]:\n",
    "    sizes = [2*scale, 4*scale, 8*scale]\n",
    "    matrices = [np.random.randn(n,n) for n in sizes]\n",
    "    matrices = [X@X.T for X in matrices]\n",
    "    y = np.random.randn(*sizes)\n",
    "    \n",
    "    start_kron = time.perf_counter()\n",
    "    mv_kron(matrices, y)\n",
    "    end_kron = time.perf_counter() - start_kron\n",
    "    \n",
    "    start_ein = time.perf_counter()\n",
    "    _, string_spec = mv_einstein(matrices, y)\n",
    "    end_ein = time.perf_counter() - start_ein\n",
    "    \n",
    "    ein_times  += [end_ein]\n",
    "    kron_times += [end_kron]\n",
    "    dimensions += [y.size]\n",
    "    print('Dimension:', str(y.size).ljust(5), f'Einstein time: {end_ein:.3f} s.', f'Naive time {end_kron:.3f}s.')\n",
    "\n"
   ]
  },
  {
   "cell_type": "markdown",
   "id": "093d6ed7",
   "metadata": {},
   "source": [
    "As we can see below, there's a big disparity in runtime, although I can't really probe any larger dimension sizes since my laptop has a small amount of memory."
   ]
  },
  {
   "cell_type": "code",
   "execution_count": 24,
   "id": "a92a24cd",
   "metadata": {},
   "outputs": [
    {
     "data": {
      "image/png": "[encoded data removed]",
      "text/plain": [
       "<Figure size 432x288 with 1 Axes>"
      ]
     },
     "metadata": {
      "needs_background": "light"
     },
     "output_type": "display_data"
    }
   ],
   "source": [
    "import matplotlib.pyplot as plt\n",
    "\n",
    "plt.plot(dimensions, ein_times, marker='o', color='b', label='Einstein')\n",
    "plt.plot(dimensions, kron_times, marker='d', color='m', label='Naive')\n",
    "plt.yscale('log')\n",
    "plt.ylabel('$\\log_{10}$ runtime'), plt.xlabel('$N$')\n",
    "plt.legend(), plt.title('Runtime for Einstein index contraction')\n",
    "plt.savefig('../figures/kmvp_runtime.png', dpi=400);\n"
   ]
  },
  {
   "cell_type": "markdown",
   "id": "4cc96bf2",
   "metadata": {},
   "source": [
    "Finally, it's interesting to note that behind-the-scenes, the Numpy implementation of `einsum` is performing a *path optimization* to determine which indices should be contracted first. We can check it out by calling `einsum_path` and examining the results."
   ]
  },
  {
   "cell_type": "code",
   "execution_count": 21,
   "id": "006cb517",
   "metadata": {},
   "outputs": [
    {
     "name": "stdout",
     "output_type": "stream",
     "text": [
      "['einsum_path', (2, 3), (1, 2), (0, 1)]\n",
      "  Complete contraction:  ab,cd,ef,ace->bdf\n",
      "         Naive scaling:  6\n",
      "     Optimized scaling:  4\n",
      "      Naive FLOP count:  4.295e+09\n",
      "  Optimized FLOP count:  7.340e+06\n",
      "   Theoretical speedup:  585.143\n",
      "  Largest intermediate:  3.277e+04 elements\n",
      "--------------------------------------------------------------------------\n",
      "scaling                  current                                remaining\n",
      "--------------------------------------------------------------------------\n",
      "   4                 ace,ef->acf                           ab,cd,acf->bdf\n",
      "   4                 acf,cd->adf                              ab,adf->bdf\n",
      "   4                 adf,ab->bdf                                 bdf->bdf\n"
     ]
    }
   ],
   "source": [
    "[print(string) for string in np.einsum_path(string_spec, *matrices, y)];"
   ]
  },
  {
   "cell_type": "markdown",
   "id": "b42b6f08",
   "metadata": {},
   "source": [
    "This printout tells us two things: first, the number of floating point operations is nearly 600X smaller for the optimized summation path. Second, the largest array held in memory is only on the order of $10^4$ elements, so it's much more memory efficient."
   ]
  }
 ],
 "metadata": {
  "kernelspec": {
   "display_name": "abm-venv",
   "language": "python",
   "name": "abm-venv"
  },
  "language_info": {
   "codemirror_mode": {
    "name": "ipython",
    "version": 3
   },
   "file_extension": ".py",
   "mimetype": "text/x-python",
   "name": "python",
   "nbconvert_exporter": "python",
   "pygments_lexer": "ipython3",
   "version": "3.8.5"
  }
 },
 "nbformat": 4,
 "nbformat_minor": 5
}
