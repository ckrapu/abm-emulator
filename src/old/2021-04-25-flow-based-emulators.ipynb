{
 "cells": [
  {
   "cell_type": "markdown",
   "metadata": {},
   "source": [
    "# Outline\n",
    "\n",
    "## Introduction\n",
    "\n",
    "### Computer model emulators\n",
    "#### Prediction\n",
    "#### Optimization\n",
    "\n",
    "### Flexible nonparametric methods\n",
    "#### GP emulators\n",
    "#### Normalizing flows\n",
    "#### Other approaches (splines?)\n",
    "\n",
    "## Methods\n",
    "#### Comparison of methods\n",
    "#### Evaluation functions\n",
    "#### Benchmark problems\n",
    "\n",
    "## Results\n",
    "\n",
    "## Discussion\n",
    "\n",
    "## Conclusion"
   ]
  },
  {
   "cell_type": "markdown",
   "metadata": {},
   "source": [
    "#### Evaluation functions"
   ]
  },
  {
   "cell_type": "markdown",
   "metadata": {},
   "source": [
    "#### Benchmark problems"
   ]
  },
  {
   "cell_type": "markdown",
   "metadata": {},
   "source": [
    "To assess the relative merits of the emulator methods, we consider three groups of benchmark problems. The first encompasses a set of four synthetic two-dimensional distributions with multimodality and/or strong cross-parameter correlations. These synthetic distributions were used in Rezende and Mohamed (2016) and we include them here to provide comparison and contrast between methods in a scenario amenable to visualization and exact calculation. Next, we include the spotweld dataset used in Bayarri et al. (2007). Finally, we apply the listed methods to a collection of three agent-based models (ABMs) with further information on these ABMs presented in Appendix 1."
   ]
  },
  {
   "cell_type": "markdown",
   "metadata": {},
   "source": []
  },
  {
   "cell_type": "code",
   "execution_count": null,
   "metadata": {},
   "outputs": [],
   "source": []
  },
  {
   "cell_type": "code",
   "execution_count": null,
   "metadata": {},
   "outputs": [],
   "source": []
  }
 ],
 "metadata": {
  "kernelspec": {
   "display_name": "pymc-examples-venv",
   "language": "python",
   "name": "pymc-examples-venv"
  },
  "language_info": {
   "codemirror_mode": {
    "name": "ipython",
    "version": 3
   },
   "file_extension": ".py",
   "mimetype": "text/x-python",
   "name": "python",
   "nbconvert_exporter": "python",
   "pygments_lexer": "ipython3",
   "version": "3.8.8"
  }
 },
 "nbformat": 4,
 "nbformat_minor": 4
}
