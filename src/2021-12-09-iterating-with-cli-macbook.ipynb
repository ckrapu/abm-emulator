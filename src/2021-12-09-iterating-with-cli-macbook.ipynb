{
 "cells": [
  {
   "cell_type": "code",
   "execution_count": 1,
   "metadata": {},
   "outputs": [],
   "source": [
    "import cli\n",
    "import matplotlib.pyplot as plt\n",
    "import numpy as np\n",
    "import pandas as pd\n",
    "import pymc3 as pm"
   ]
  },
  {
   "cell_type": "code",
   "execution_count": 3,
   "metadata": {
    "scrolled": false
   },
   "outputs": [
    {
     "name": "stderr",
     "output_type": "stream",
     "text": [
      "2022-02-08 16:08:43 CRITICAL Response variable with shape (27, 100, 121) standardized with mapping none, scale=0.99812948186588 and offset=0.0\n",
      "2022-02-08 16:08:43 CRITICAL Starting parameter estimation with MCMC for 243000 observations.\n",
      "2022-02-08 16:08:43 CRITICAL Input matrix 0 has dimension (27, 3)\n",
      "2022-02-08 16:08:43 CRITICAL Input matrix 1 has dimension (100, 1)\n",
      "2022-02-08 16:08:43 CRITICAL Input matrix 2 has dimension (90, 2)\n",
      "2022-02-08 16:08:44 CRITICAL Applying length-scale bounds of lower:[0.017320508075688773, 0.01, 0.014142135623730952] and upper:[2.598076211353316, 1.5, 2.121320343559643]\n",
      "Auto-assigning NUTS sampler...\n",
      "2022-02-08 16:08:45 INFO     Auto-assigning NUTS sampler...\n",
      "Initializing NUTS using jitter+adapt_diag...\n",
      "2022-02-08 16:08:45 INFO     Initializing NUTS using jitter+adapt_diag...\n",
      "Multiprocess sampling (2 chains in 2 jobs)\n",
      "2022-02-08 16:08:51 INFO     Multiprocess sampling (2 chains in 2 jobs)\n",
      "NUTS: [sigma, gp_scale, ls, mean]\n",
      "2022-02-08 16:08:51 INFO     NUTS: [sigma, gp_scale, ls, mean]\n",
      "WARNING (theano.tensor.blas): Using NumPy C-API based implementation for BLAS functions.\n",
      "WARNING (theano.tensor.blas): Using NumPy C-API based implementation for BLAS functions.\n"
     ]
    },
    {
     "data": {
      "text/html": [
       "\n",
       "    <div>\n",
       "        <style>\n",
       "            /* Turns off some styling */\n",
       "            progress {\n",
       "                /* gets rid of default border in Firefox and Opera. */\n",
       "                border: none;\n",
       "                /* Needs to be in here for Safari polyfill so background images work as expected. */\n",
       "                background-size: auto;\n",
       "            }\n",
       "            .progress-bar-interrupted, .progress-bar-interrupted::-webkit-progress-bar {\n",
       "                background: #F44336;\n",
       "            }\n",
       "        </style>\n",
       "      <progress value='8000' class='' max='8000' style='width:300px; height:20px; vertical-align: middle;'></progress>\n",
       "      100.00% [8000/8000 2:20:27<00:00 Sampling 2 chains, 838 divergences]\n",
       "    </div>\n",
       "    "
      ],
      "text/plain": [
       "<IPython.core.display.HTML object>"
      ]
     },
     "metadata": {},
     "output_type": "display_data"
    },
    {
     "name": "stderr",
     "output_type": "stream",
     "text": [
      "/Users/v7k/Dropbox (ORNL)/venvs/macbook-abm-venv/lib/python3.8/site-packages/theano/tensor/nlinalg.py:417: RuntimeWarning: divide by zero encountered in true_divide\n",
      "  v[:, m] * V.T[n].dot(v[:, m]) / (w[n] - w[m])\n",
      "/Users/v7k/Dropbox (ORNL)/venvs/macbook-abm-venv/lib/python3.8/site-packages/theano/tensor/nlinalg.py:422: RuntimeWarning: invalid value encountered in add\n",
      "  g = sum(outer(v[:, n], v[:, n] * W[n] + G(n)) for n in range(N))\n",
      "/Users/v7k/Dropbox (ORNL)/venvs/macbook-abm-venv/lib/python3.8/site-packages/numpy/core/numeric.py:936: RuntimeWarning: invalid value encountered in multiply\n",
      "  return multiply(a.ravel()[:, newaxis], b.ravel()[newaxis, :], out)\n",
      "/Users/v7k/Dropbox (ORNL)/venvs/macbook-abm-venv/lib/python3.8/site-packages/theano/tensor/nlinalg.py:417: RuntimeWarning: invalid value encountered in true_divide\n",
      "  v[:, m] * V.T[n].dot(v[:, m]) / (w[n] - w[m])\n",
      "/Users/v7k/Dropbox (ORNL)/venvs/macbook-abm-venv/lib/python3.8/site-packages/theano/tensor/nlinalg.py:416: RuntimeWarning: invalid value encountered in add\n",
      "  return sum(\n",
      "/Users/v7k/Dropbox (ORNL)/venvs/macbook-abm-venv/lib/python3.8/site-packages/theano/tensor/nlinalg.py:417: RuntimeWarning: divide by zero encountered in true_divide\n",
      "  v[:, m] * V.T[n].dot(v[:, m]) / (w[n] - w[m])\n",
      "/Users/v7k/Dropbox (ORNL)/venvs/macbook-abm-venv/lib/python3.8/site-packages/theano/tensor/nlinalg.py:417: RuntimeWarning: invalid value encountered in true_divide\n",
      "  v[:, m] * V.T[n].dot(v[:, m]) / (w[n] - w[m])\n",
      "/Users/v7k/Dropbox (ORNL)/venvs/macbook-abm-venv/lib/python3.8/site-packages/numpy/core/numeric.py:936: RuntimeWarning: invalid value encountered in multiply\n",
      "  return multiply(a.ravel()[:, newaxis], b.ravel()[newaxis, :], out)\n",
      "/Users/v7k/Dropbox (ORNL)/venvs/macbook-abm-venv/lib/python3.8/site-packages/theano/tensor/nlinalg.py:422: RuntimeWarning: invalid value encountered in add\n",
      "  g = sum(outer(v[:, n], v[:, n] * W[n] + G(n)) for n in range(N))\n",
      "/Users/v7k/Dropbox (ORNL)/venvs/macbook-abm-venv/lib/python3.8/site-packages/theano/tensor/nlinalg.py:416: RuntimeWarning: invalid value encountered in add\n",
      "  return sum(\n",
      "Sampling 2 chains for 2_000 tune and 2_000 draw iterations (4_000 + 4_000 draws total) took 8441 seconds.\n",
      "2022-02-08 18:29:32 INFO     Sampling 2 chains for 2_000 tune and 2_000 draw iterations (4_000 + 4_000 draws total) took 8441 seconds.\n",
      "There were 424 divergences after tuning. Increase `target_accept` or reparameterize.\n",
      "2022-02-08 18:30:04 ERROR    There were 424 divergences after tuning. Increase `target_accept` or reparameterize.\n",
      "There were 414 divergences after tuning. Increase `target_accept` or reparameterize.\n",
      "2022-02-08 18:30:04 ERROR    There were 414 divergences after tuning. Increase `target_accept` or reparameterize.\n",
      "The acceptance probability does not match the target. It is 0.8946088461224369, but should be close to 0.8. Try to increase the number of tuning steps.\n",
      "2022-02-08 18:30:04 WARNING  The acceptance probability does not match the target. It is 0.8946088461224369, but should be close to 0.8. Try to increase the number of tuning steps.\n",
      " /Users/v7k/Dropbox (ORNL)/venvs/macbook-abm-venv/lib/python3.8/site-packages/arviz/data/inference_data.py:435: UserWarning:The attributes are not same for all groups. Considering only the first group `attrs`\n"
     ]
    },
    {
     "name": "stdout",
     "output_type": "stream",
     "text": [
      "defaultdict(<class 'dict'>, {'posterior': {'mean': array([[0.02608402, 0.0259904 , 0.02614187, ..., 0.02663411, 0.02702203,\n",
      "        0.02658661],\n",
      "       [0.02583469, 0.02570226, 0.02570226, ..., 0.02601724, 0.02632314,\n",
      "        0.02610099]]), 'ls': array([[[0.05121672, 0.02275591, 0.02580465],\n",
      "        [0.05266862, 0.02276338, 0.02456488],\n",
      "        [0.05900313, 0.0227024 , 0.02448924],\n",
      "        ...,\n",
      "        [0.04177954, 0.02269682, 0.02474827],\n",
      "        [0.03605187, 0.02279096, 0.02537382],\n",
      "        [0.03762412, 0.02285543, 0.02553263]],\n",
      "\n",
      "       [[0.0265155 , 0.02258198, 0.02534316],\n",
      "        [0.02819278, 0.02255721, 0.02548019],\n",
      "        [0.02819278, 0.02255721, 0.02548019],\n",
      "        ...,\n",
      "        [0.06145805, 0.02272236, 0.02376218],\n",
      "        [0.04972172, 0.02269285, 0.02630297],\n",
      "        [0.03302418, 0.02279325, 0.02458516]]]), 'gp_scale': array([[0.10578415, 0.10574713, 0.10505131, ..., 0.10568677, 0.10545712,\n",
      "        0.10625768],\n",
      "       [0.10520048, 0.10502802, 0.10502802, ..., 0.10575522, 0.10536016,\n",
      "        0.10605125]]), 'gp_variance': array([[0.01119029, 0.01118246, 0.01103578, ..., 0.01116969, 0.01112121,\n",
      "        0.01129069],\n",
      "       [0.01106714, 0.01103089, 0.01103089, ..., 0.01118417, 0.01110076,\n",
      "        0.01124687]]), 'sigma': array([[0.01549061, 0.01556048, 0.01546926, ..., 0.01546329, 0.01563254,\n",
      "        0.01562109],\n",
      "       [0.01535589, 0.015404  , 0.015404  , ..., 0.01554369, 0.01538828,\n",
      "        0.01567226]]), 'input_scales': [[69.17924388803914, 67.86851484300078, 68.91728931584913], [99], [12.667, 13.054]], 'input_offsets': [[15.043071756772632, 15.589163531251184, 14.998259089935452], [0], [1.191, 0.782]], 'response_offset': 0.0, 'response_scale': 0.99812948186588, 'transform_fn': 'none', 'input_file': '../data/processed-emulator-inputs/couzin.json'}, 'log_likelihood': {'ll': array([[[374987.17227925],\n",
      "        [374986.39055902],\n",
      "        [374982.66368902],\n",
      "        ...,\n",
      "        [374986.50226143],\n",
      "        [374985.14359151],\n",
      "        [374984.47740437]],\n",
      "\n",
      "       [[374983.924994  ],\n",
      "        [374982.4127534 ],\n",
      "        [374982.4127534 ],\n",
      "        ...,\n",
      "        [374983.72423411],\n",
      "        [374984.32231639],\n",
      "        [374983.04951322]]])}, 'sample_stats': {'energy': array([[-374959.65568196, -374961.08057967, -374955.77247217, ...,\n",
      "        -374958.58306326, -374958.4109362 , -374957.07235688],\n",
      "       [-374956.45141945, -374950.23343691, -374951.26411203, ...,\n",
      "        -374956.70653726, -374954.52836712, -374955.61827783]]), 'step_size': array([[5.11675128e-01, 5.11675128e-01, 5.11675128e-01, ...,\n",
      "        5.11675128e-01, 5.11675128e-01, 5.11675128e-01],\n",
      "       [9.59750345e-05, 9.59750345e-05, 9.59750345e-05, ...,\n",
      "        9.59750345e-05, 9.59750345e-05, 9.59750345e-05]]), 'depth': array([[3, 3, 3, ..., 2, 3, 3],\n",
      "       [1, 2, 2, ..., 4, 4, 4]]), 'step_size_bar': array([[0.51013057, 0.51013057, 0.51013057, ..., 0.51013057, 0.51013057,\n",
      "        0.51013057],\n",
      "       [0.27989528, 0.27989528, 0.27989528, ..., 0.27989528, 0.27989528,\n",
      "        0.27989528]]), 'process_time_diff': array([[5.03735 , 5.108908, 5.021238, ..., 1.934554, 4.967221, 4.853893],\n",
      "       [1.253125, 1.896994, 1.898331, ..., 7.699007, 5.653008, 7.374559]]), 'perf_counter_start': array([[23004.74122366, 23006.18262452, 23007.56687693, ...,\n",
      "        25762.99046351, 25763.55670891, 25765.062746  ],\n",
      "       [22648.99157936, 22649.31314061, 22649.80540356, ...,\n",
      "        26651.11177566, 26653.05007389, 26654.46852471]]), 'diverging': array([[False, False, False, ...,  True, False, False],\n",
      "       [ True,  True,  True, ..., False, False, False]]), 'perf_counter_diff': array([[1.44114111, 1.38401245, 1.31084929, ..., 0.56597648, 1.50579288,\n",
      "        1.54651716],\n",
      "       [0.32125289, 0.492002  , 0.48356181, ..., 1.93810587, 1.41816507,\n",
      "        1.89030262]]), 'mean_tree_accept': array([[0.97296731, 0.96550096, 0.66171183, ..., 0.91998987, 0.91009944,\n",
      "        0.99904813],\n",
      "       [0.        , 0.66719599, 0.56301636, ..., 0.97464547, 0.9635806 ,\n",
      "        0.97813776]]), 'energy_error': array([[-0.35166587,  0.03062058,  0.86400799, ...,  0.08339262,\n",
      "         0.17726663, -0.12688367],\n",
      "       [ 0.        ,  0.40467144,  0.        , ..., -0.06151837,\n",
      "         0.08612789,  0.10346555]]), 'max_energy_error': array([[-0.35166587,  0.07749631,  0.94713596, ...,         inf,\n",
      "         0.18861442, -0.16752008],\n",
      "       [        inf,         inf,         inf, ...,  0.51592473,\n",
      "         0.26549221, -0.31329868]]), 'tree_size': array([[ 7.,  7.,  7., ...,  2.,  7.,  7.],\n",
      "       [ 1.,  2.,  2., ..., 15., 11., 15.]]), 'lp': array([[374962.76241378, 374961.91500037, 374958.32607605, ...,\n",
      "        374961.66806881, 374960.11789994, 374959.55739179],\n",
      "       [374958.15216589, 374956.81847449, 374956.81847449, ...,\n",
      "        374959.38332751, 374959.89402213, 374957.784539  ]])}, 'observed_data': {'ll': array([0.        , 0.        , 0.        , ..., 0.        , 0.35752748,\n",
      "       0.        ])}, 'attrs': {'created_at': '2022-02-08T23:29:32.440113', 'arviz_version': '0.11.0', 'inference_library': 'pymc3', 'inference_library_version': '3.11.4', 'sampling_time': 8441.255583047867, 'tuning_steps': 2000}})\n"
     ]
    },
    {
     "name": "stderr",
     "output_type": "stream",
     "text": [
      "2022-02-08 18:30:04 CRITICAL Outputs saved to ../outputs/couzin_space+time+process_mcmc.json.\n"
     ]
    }
   ],
   "source": [
    "mcmc_iter    = 2000\n",
    "model_types  = ['space+time+process']\n",
    "datasets     = ['couzin']\n",
    "white_noise  = True\n",
    "return_model = False\n",
    "\n",
    "for dataset in datasets:\n",
    "    input_filepath    = f'../data/processed-emulator-inputs/{dataset}.json'\n",
    "    for fit_method in ['mcmc']:\n",
    "        for model_type in model_types:\n",
    "\n",
    "            output_filepath   = f'../outputs/{dataset}_{model_type}_{fit_method}.json'\n",
    "\n",
    "            cli.fit_model(input_filepath, output_filepath, model_type, \n",
    "                          fit_method, return_trace=False,\n",
    "                          mcmc_iter=mcmc_iter, response_transform='none',\n",
    "                          white_noise=white_noise,return_model=return_model)"
   ]
  },
  {
   "cell_type": "code",
   "execution_count": null,
   "metadata": {},
   "outputs": [],
   "source": []
  }
 ],
 "metadata": {
  "kernelspec": {
   "display_name": "macbook-abm-venv",
   "language": "python",
   "name": "macbook-abm-venv"
  },
  "language_info": {
   "codemirror_mode": {
    "name": "ipython",
    "version": 3
   },
   "file_extension": ".py",
   "mimetype": "text/x-python",
   "name": "python",
   "nbconvert_exporter": "python",
   "pygments_lexer": "ipython3",
   "version": "3.8.5"
  }
 },
 "nbformat": 4,
 "nbformat_minor": 4
}
